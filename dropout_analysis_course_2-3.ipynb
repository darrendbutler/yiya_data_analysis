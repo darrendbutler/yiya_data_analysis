{
 "cells": [
  {
   "attachments": {},
   "cell_type": "markdown",
   "metadata": {},
   "source": [
    "# Measuring and Predicting Student Dropout in Yiya Air Science Courses\n",
    "\n",
    "In this project, our first aim to identify the points in the Yiya Air Science courses 2 and 3 where students dropout. There are different ways extents and ways to measure drop outp For example, dropout can be defined as a:\n",
    "1. **Usage Gap**, where the time since the students last response is more than a certain amount of days e.g (e.g more than 7 days since last response). This can be seen as students being \"on track\" or \"behind\".\n",
    "2. **Total Response Stop**, where a student has sent their last response to the system before completing all tasks\n",
    "3. **Total Question Stop**, where a student stops submitting graded problems in the course before completing all tasks [(Borella, et al., 2019)](https://mitili.mit.edu/sites/default/files/project-documents/a24-Borrella_Caballero_Ponce_2019.pdf)\n",
    "4. **Total Completion Stop**, where a student stops completing tasks (lesson modules and tests)\n",
    "5. **Opt out** - student voluntarily unenrolls from the course without acheiving a certificate [(Tinto, 1975)](https://www-tandfonline-com.cmu.idm.oclc.org/doi/full/10.1080/01587919.2017.1369006#)\n",
    "\n",
    "Our second aim is to measure and visualize the rate of each of these dropout metrics among students over time and each course step. We can do so by diving the total occurances by the number of studnets. (Counts of students meeting dropout criteria / total number of students).\n",
    "\n",
    "Our third aim is to identify features (varibales) that are predictive of dropout with a classification model. Prior research suggests a need to refine success and dropout metrics [(Kohler, 2019)](https://www-tandfonline-com.cmu.idm.oclc.org/doi/full/10.1080/01587919.2017.1369006). It is uncertain if we have all of the following features in our data, but some features that we may be able to use in our model and evaluate for predictive power include: \n",
    "- Student's date of first submission of a problem [(Liyanagunawardena, 2014)](https://centaur.reading.ac.uk/36002/)\n",
    "- Student Intentions [(Liyanagunawardena, 2014)](https://centaur.reading.ac.uk/36002/)\n",
    "    - Unsure\n",
    "    - Browse Course\n",
    "    - Audit\n",
    "    - Complete\n",
    "- Participation type [(Kohler, 2013)](https://er.educause.edu/articles/2013/6/retention-and-intention-in-massive-open-online-courses-in-depth)\n",
    "    - Browser\n",
    "    - Passive Participant \n",
    "    - Active Participant\n",
    "    - Community Contributor\n",
    "- Number of lesson modules completed\n",
    "- Number of lesson questions completed\n",
    "- Number of questions answered correctly\n",
    "- Number of tests they've completed\n",
    "- Whether they are a returning learner\n",
    "- Minutes spent on a task / Average time of session\n",
    "    \n",
    "\n",
    "\n",
    " find the two best markets to advertise our product in — we're working for an e-learning company that offers courses on programming. Most of our courses are on web and mobile development, but we also cover many other domains, like data science, game development, etc.\n",
    "\n",
    "We'll analyze existing data about new coders to find the best markets to invest in for advertisting. To make our recommendation, we'll try to find out:\n",
    "\n",
    "Where are these new coders located.\n",
    "What are the locations with the greatest number of new coders.\n",
    "How much money new coders are willing to spend on learning."
   ]
  },
  {
   "cell_type": "code",
   "execution_count": 1,
   "metadata": {},
   "outputs": [],
   "source": [
    "import pandas as pd"
   ]
  },
  {
   "attachments": {},
   "cell_type": "markdown",
   "metadata": {},
   "source": [
    "conda install -p /Users/ddbutler/anaconda3/envs/yiya-env ipykernel --update-deps --force-reinstall"
   ]
  }
 ],
 "metadata": {
  "kernelspec": {
   "display_name": "Python 3",
   "language": "python",
   "name": "python3"
  },
  "language_info": {
   "codemirror_mode": {
    "name": "ipython",
    "version": 3
   },
   "file_extension": ".py",
   "mimetype": "text/x-python",
   "name": "python",
   "nbconvert_exporter": "python",
   "pygments_lexer": "ipython3",
   "version": "3.11.3"
  },
  "orig_nbformat": 4
 },
 "nbformat": 4,
 "nbformat_minor": 2
}
